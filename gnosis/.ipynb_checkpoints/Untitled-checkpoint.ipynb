{
 "cells": [
  {
   "cell_type": "code",
   "execution_count": 12,
   "metadata": {
    "collapsed": true
   },
   "outputs": [],
   "source": [
    "import etherscan.accounts as accounts\n",
    "import pandas as pd\n",
    "import json"
   ]
  },
  {
   "cell_type": "code",
   "execution_count": 21,
   "metadata": {
    "collapsed": true
   },
   "outputs": [],
   "source": [
    "with open('api_key.json', 'r') as key_file:\n",
    "    key = json.loads(key_file.read())['key']"
   ]
  },
  {
   "cell_type": "code",
   "execution_count": 22,
   "metadata": {
    "collapsed": true
   },
   "outputs": [],
   "source": [
    "address = '0x1d0DcC8d8BcaFa8e8502BEaEeF6CBD49d3AFFCDC'\n",
    "api = accounts.Account(address=address, api_key=key)"
   ]
  },
  {
   "cell_type": "code",
   "execution_count": 46,
   "metadata": {},
   "outputs": [
    {
     "name": "stdout",
     "output_type": "stream",
     "text": [
      "page 1 added\n",
      "Total number of transactions: 1221\n"
     ]
    }
   ],
   "source": [
    "transactions = api.get_all_transactions()"
   ]
  },
  {
   "cell_type": "code",
   "execution_count": 47,
   "metadata": {
    "collapsed": true
   },
   "outputs": [],
   "source": [
    "txs = pd.DataFrame(transactions, )"
   ]
  },
  {
   "cell_type": "code",
   "execution_count": 48,
   "metadata": {},
   "outputs": [
    {
     "data": {
      "text/html": [
       "<div>\n",
       "<table border=\"1\" class=\"dataframe\">\n",
       "  <thead>\n",
       "    <tr style=\"text-align: right;\">\n",
       "      <th></th>\n",
       "      <th>blockHash</th>\n",
       "      <th>blockNumber</th>\n",
       "      <th>confirmations</th>\n",
       "      <th>contractAddress</th>\n",
       "      <th>cumulativeGasUsed</th>\n",
       "      <th>from</th>\n",
       "      <th>gas</th>\n",
       "      <th>gasPrice</th>\n",
       "      <th>gasUsed</th>\n",
       "      <th>hash</th>\n",
       "      <th>input</th>\n",
       "      <th>isError</th>\n",
       "      <th>nonce</th>\n",
       "      <th>timeStamp</th>\n",
       "      <th>to</th>\n",
       "      <th>transactionIndex</th>\n",
       "      <th>value</th>\n",
       "    </tr>\n",
       "  </thead>\n",
       "  <tbody>\n",
       "    <tr>\n",
       "      <th>0</th>\n",
       "      <td>0xbb75a3fd9e354f3ef6b09b6b060e8f006d897ac04611...</td>\n",
       "      <td>3557583</td>\n",
       "      <td>35944</td>\n",
       "      <td>0x1d0dcc8d8bcafa8e8502beaeef6cbd49d3affcdc</td>\n",
       "      <td>1782904</td>\n",
       "      <td>0xbe4e25443df23382228e6347b06565edd838f901</td>\n",
       "      <td>3000000</td>\n",
       "      <td>20000000000</td>\n",
       "      <td>1486054</td>\n",
       "      <td>0x4dbf95eb08cde01d46fcc0916c2da4adb7cd12eed473...</td>\n",
       "      <td>0x6060604052341561000c57fe5b6040516060806114cc...</td>\n",
       "      <td>0</td>\n",
       "      <td>48</td>\n",
       "      <td>1492522930</td>\n",
       "      <td></td>\n",
       "      <td>8</td>\n",
       "      <td>0</td>\n",
       "    </tr>\n",
       "    <tr>\n",
       "      <th>1</th>\n",
       "      <td>0x0dd2c8dbb1e46138be002e767b1d1f316af6570629b7...</td>\n",
       "      <td>3557599</td>\n",
       "      <td>35928</td>\n",
       "      <td></td>\n",
       "      <td>804554</td>\n",
       "      <td>0xbe4e25443df23382228e6347b06565edd838f901</td>\n",
       "      <td>3000000</td>\n",
       "      <td>20000000000</td>\n",
       "      <td>66720</td>\n",
       "      <td>0xb5b8d48d71ec74b7602ff455d9520d12ec1e97e410b3...</td>\n",
       "      <td>0x66d382030000000000000000000000006810e776880c...</td>\n",
       "      <td>0</td>\n",
       "      <td>54</td>\n",
       "      <td>1492523212</td>\n",
       "      <td>0x1d0dcc8d8bcafa8e8502beaeef6cbd49d3affcdc</td>\n",
       "      <td>23</td>\n",
       "      <td>0</td>\n",
       "    </tr>\n",
       "    <tr>\n",
       "      <th>2</th>\n",
       "      <td>0xc173571b88c08c5d8e201ab27a2f76a9eff0dc74fbba...</td>\n",
       "      <td>3565092</td>\n",
       "      <td>28435</td>\n",
       "      <td></td>\n",
       "      <td>875372</td>\n",
       "      <td>0xd68ba7734753e2ee54103116323aba2d94c78dc5</td>\n",
       "      <td>100000</td>\n",
       "      <td>20000000000</td>\n",
       "      <td>100000</td>\n",
       "      <td>0x19791ab4cf41525507c946bd407b4c89b8c39fa91f31...</td>\n",
       "      <td>0x9cf5453d</td>\n",
       "      <td>1</td>\n",
       "      <td>221</td>\n",
       "      <td>1492635307</td>\n",
       "      <td>0x1d0dcc8d8bcafa8e8502beaeef6cbd49d3affcdc</td>\n",
       "      <td>26</td>\n",
       "      <td>1000000000000000</td>\n",
       "    </tr>\n",
       "    <tr>\n",
       "      <th>3</th>\n",
       "      <td>0x6336d4c65ad3e305d5c663b0c53eb7a6a0b48d8afb84...</td>\n",
       "      <td>3584469</td>\n",
       "      <td>9058</td>\n",
       "      <td></td>\n",
       "      <td>29091</td>\n",
       "      <td>0xbb7cf0e2cbf768d1d5a38d6ce7b8ec9f5d844a9e</td>\n",
       "      <td>29091</td>\n",
       "      <td>20000000000</td>\n",
       "      <td>29091</td>\n",
       "      <td>0x776524bbb29ceca38f7624d850eae9c9938ff2b37a66...</td>\n",
       "      <td>0x9cf5453d000000000000000000000000000000000000...</td>\n",
       "      <td>1</td>\n",
       "      <td>111</td>\n",
       "      <td>1492922037</td>\n",
       "      <td>0x1d0dcc8d8bcafa8e8502beaeef6cbd49d3affcdc</td>\n",
       "      <td>0</td>\n",
       "      <td>1000000000000000</td>\n",
       "    </tr>\n",
       "    <tr>\n",
       "      <th>4</th>\n",
       "      <td>0x5c444a8e4c889f8a228cc84e4be2d265f546cec24062...</td>\n",
       "      <td>3584491</td>\n",
       "      <td>9036</td>\n",
       "      <td></td>\n",
       "      <td>1328552</td>\n",
       "      <td>0xbb7cf0e2cbf768d1d5a38d6ce7b8ec9f5d844a9e</td>\n",
       "      <td>100000</td>\n",
       "      <td>20000000000</td>\n",
       "      <td>100000</td>\n",
       "      <td>0xc66db20e8322f2e95500d33dd79b8469234cad7bcecf...</td>\n",
       "      <td>0x9cf5453d000000000000000000000000000000000000...</td>\n",
       "      <td>1</td>\n",
       "      <td>112</td>\n",
       "      <td>1492922443</td>\n",
       "      <td>0x1d0dcc8d8bcafa8e8502beaeef6cbd49d3affcdc</td>\n",
       "      <td>17</td>\n",
       "      <td>1000000000000000</td>\n",
       "    </tr>\n",
       "  </tbody>\n",
       "</table>\n",
       "</div>"
      ],
      "text/plain": [
       "                                           blockHash blockNumber  \\\n",
       "0  0xbb75a3fd9e354f3ef6b09b6b060e8f006d897ac04611...     3557583   \n",
       "1  0x0dd2c8dbb1e46138be002e767b1d1f316af6570629b7...     3557599   \n",
       "2  0xc173571b88c08c5d8e201ab27a2f76a9eff0dc74fbba...     3565092   \n",
       "3  0x6336d4c65ad3e305d5c663b0c53eb7a6a0b48d8afb84...     3584469   \n",
       "4  0x5c444a8e4c889f8a228cc84e4be2d265f546cec24062...     3584491   \n",
       "\n",
       "  confirmations                             contractAddress cumulativeGasUsed  \\\n",
       "0         35944  0x1d0dcc8d8bcafa8e8502beaeef6cbd49d3affcdc           1782904   \n",
       "1         35928                                                        804554   \n",
       "2         28435                                                        875372   \n",
       "3          9058                                                         29091   \n",
       "4          9036                                                       1328552   \n",
       "\n",
       "                                         from      gas     gasPrice  gasUsed  \\\n",
       "0  0xbe4e25443df23382228e6347b06565edd838f901  3000000  20000000000  1486054   \n",
       "1  0xbe4e25443df23382228e6347b06565edd838f901  3000000  20000000000    66720   \n",
       "2  0xd68ba7734753e2ee54103116323aba2d94c78dc5   100000  20000000000   100000   \n",
       "3  0xbb7cf0e2cbf768d1d5a38d6ce7b8ec9f5d844a9e    29091  20000000000    29091   \n",
       "4  0xbb7cf0e2cbf768d1d5a38d6ce7b8ec9f5d844a9e   100000  20000000000   100000   \n",
       "\n",
       "                                                hash  \\\n",
       "0  0x4dbf95eb08cde01d46fcc0916c2da4adb7cd12eed473...   \n",
       "1  0xb5b8d48d71ec74b7602ff455d9520d12ec1e97e410b3...   \n",
       "2  0x19791ab4cf41525507c946bd407b4c89b8c39fa91f31...   \n",
       "3  0x776524bbb29ceca38f7624d850eae9c9938ff2b37a66...   \n",
       "4  0xc66db20e8322f2e95500d33dd79b8469234cad7bcecf...   \n",
       "\n",
       "                                               input isError nonce  \\\n",
       "0  0x6060604052341561000c57fe5b6040516060806114cc...       0    48   \n",
       "1  0x66d382030000000000000000000000006810e776880c...       0    54   \n",
       "2                                         0x9cf5453d       1   221   \n",
       "3  0x9cf5453d000000000000000000000000000000000000...       1   111   \n",
       "4  0x9cf5453d000000000000000000000000000000000000...       1   112   \n",
       "\n",
       "    timeStamp                                          to transactionIndex  \\\n",
       "0  1492522930                                                            8   \n",
       "1  1492523212  0x1d0dcc8d8bcafa8e8502beaeef6cbd49d3affcdc               23   \n",
       "2  1492635307  0x1d0dcc8d8bcafa8e8502beaeef6cbd49d3affcdc               26   \n",
       "3  1492922037  0x1d0dcc8d8bcafa8e8502beaeef6cbd49d3affcdc                0   \n",
       "4  1492922443  0x1d0dcc8d8bcafa8e8502beaeef6cbd49d3affcdc               17   \n",
       "\n",
       "              value  \n",
       "0                 0  \n",
       "1                 0  \n",
       "2  1000000000000000  \n",
       "3  1000000000000000  \n",
       "4  1000000000000000  "
      ]
     },
     "execution_count": 48,
     "metadata": {},
     "output_type": "execute_result"
    }
   ],
   "source": [
    "txs.head()"
   ]
  },
  {
   "cell_type": "code",
   "execution_count": 49,
   "metadata": {},
   "outputs": [],
   "source": [
    "txs.value = txs.value.astype(float)\n",
    "txs['value_eth'] = txs.value / 1000000000000000000"
   ]
  },
  {
   "cell_type": "code",
   "execution_count": 50,
   "metadata": {},
   "outputs": [
    {
     "data": {
      "text/html": [
       "<div>\n",
       "<table border=\"1\" class=\"dataframe\">\n",
       "  <thead>\n",
       "    <tr style=\"text-align: right;\">\n",
       "      <th></th>\n",
       "      <th>blockHash</th>\n",
       "      <th>blockNumber</th>\n",
       "      <th>confirmations</th>\n",
       "      <th>contractAddress</th>\n",
       "      <th>cumulativeGasUsed</th>\n",
       "      <th>from</th>\n",
       "      <th>gas</th>\n",
       "      <th>gasPrice</th>\n",
       "      <th>gasUsed</th>\n",
       "      <th>hash</th>\n",
       "      <th>input</th>\n",
       "      <th>isError</th>\n",
       "      <th>nonce</th>\n",
       "      <th>timeStamp</th>\n",
       "      <th>to</th>\n",
       "      <th>transactionIndex</th>\n",
       "      <th>value</th>\n",
       "      <th>value_eth</th>\n",
       "    </tr>\n",
       "  </thead>\n",
       "  <tbody>\n",
       "    <tr>\n",
       "      <th>0</th>\n",
       "      <td>0xbb75a3fd9e354f3ef6b09b6b060e8f006d897ac04611...</td>\n",
       "      <td>3557583</td>\n",
       "      <td>35944</td>\n",
       "      <td>0x1d0dcc8d8bcafa8e8502beaeef6cbd49d3affcdc</td>\n",
       "      <td>1782904</td>\n",
       "      <td>0xbe4e25443df23382228e6347b06565edd838f901</td>\n",
       "      <td>3000000</td>\n",
       "      <td>20000000000</td>\n",
       "      <td>1486054</td>\n",
       "      <td>0x4dbf95eb08cde01d46fcc0916c2da4adb7cd12eed473...</td>\n",
       "      <td>0x6060604052341561000c57fe5b6040516060806114cc...</td>\n",
       "      <td>0</td>\n",
       "      <td>48</td>\n",
       "      <td>1492522930</td>\n",
       "      <td></td>\n",
       "      <td>8</td>\n",
       "      <td>0.000000e+00</td>\n",
       "      <td>0.000</td>\n",
       "    </tr>\n",
       "    <tr>\n",
       "      <th>1</th>\n",
       "      <td>0x0dd2c8dbb1e46138be002e767b1d1f316af6570629b7...</td>\n",
       "      <td>3557599</td>\n",
       "      <td>35928</td>\n",
       "      <td></td>\n",
       "      <td>804554</td>\n",
       "      <td>0xbe4e25443df23382228e6347b06565edd838f901</td>\n",
       "      <td>3000000</td>\n",
       "      <td>20000000000</td>\n",
       "      <td>66720</td>\n",
       "      <td>0xb5b8d48d71ec74b7602ff455d9520d12ec1e97e410b3...</td>\n",
       "      <td>0x66d382030000000000000000000000006810e776880c...</td>\n",
       "      <td>0</td>\n",
       "      <td>54</td>\n",
       "      <td>1492523212</td>\n",
       "      <td>0x1d0dcc8d8bcafa8e8502beaeef6cbd49d3affcdc</td>\n",
       "      <td>23</td>\n",
       "      <td>0.000000e+00</td>\n",
       "      <td>0.000</td>\n",
       "    </tr>\n",
       "    <tr>\n",
       "      <th>2</th>\n",
       "      <td>0xc173571b88c08c5d8e201ab27a2f76a9eff0dc74fbba...</td>\n",
       "      <td>3565092</td>\n",
       "      <td>28435</td>\n",
       "      <td></td>\n",
       "      <td>875372</td>\n",
       "      <td>0xd68ba7734753e2ee54103116323aba2d94c78dc5</td>\n",
       "      <td>100000</td>\n",
       "      <td>20000000000</td>\n",
       "      <td>100000</td>\n",
       "      <td>0x19791ab4cf41525507c946bd407b4c89b8c39fa91f31...</td>\n",
       "      <td>0x9cf5453d</td>\n",
       "      <td>1</td>\n",
       "      <td>221</td>\n",
       "      <td>1492635307</td>\n",
       "      <td>0x1d0dcc8d8bcafa8e8502beaeef6cbd49d3affcdc</td>\n",
       "      <td>26</td>\n",
       "      <td>1.000000e+15</td>\n",
       "      <td>0.001</td>\n",
       "    </tr>\n",
       "    <tr>\n",
       "      <th>3</th>\n",
       "      <td>0x6336d4c65ad3e305d5c663b0c53eb7a6a0b48d8afb84...</td>\n",
       "      <td>3584469</td>\n",
       "      <td>9058</td>\n",
       "      <td></td>\n",
       "      <td>29091</td>\n",
       "      <td>0xbb7cf0e2cbf768d1d5a38d6ce7b8ec9f5d844a9e</td>\n",
       "      <td>29091</td>\n",
       "      <td>20000000000</td>\n",
       "      <td>29091</td>\n",
       "      <td>0x776524bbb29ceca38f7624d850eae9c9938ff2b37a66...</td>\n",
       "      <td>0x9cf5453d000000000000000000000000000000000000...</td>\n",
       "      <td>1</td>\n",
       "      <td>111</td>\n",
       "      <td>1492922037</td>\n",
       "      <td>0x1d0dcc8d8bcafa8e8502beaeef6cbd49d3affcdc</td>\n",
       "      <td>0</td>\n",
       "      <td>1.000000e+15</td>\n",
       "      <td>0.001</td>\n",
       "    </tr>\n",
       "    <tr>\n",
       "      <th>4</th>\n",
       "      <td>0x5c444a8e4c889f8a228cc84e4be2d265f546cec24062...</td>\n",
       "      <td>3584491</td>\n",
       "      <td>9036</td>\n",
       "      <td></td>\n",
       "      <td>1328552</td>\n",
       "      <td>0xbb7cf0e2cbf768d1d5a38d6ce7b8ec9f5d844a9e</td>\n",
       "      <td>100000</td>\n",
       "      <td>20000000000</td>\n",
       "      <td>100000</td>\n",
       "      <td>0xc66db20e8322f2e95500d33dd79b8469234cad7bcecf...</td>\n",
       "      <td>0x9cf5453d000000000000000000000000000000000000...</td>\n",
       "      <td>1</td>\n",
       "      <td>112</td>\n",
       "      <td>1492922443</td>\n",
       "      <td>0x1d0dcc8d8bcafa8e8502beaeef6cbd49d3affcdc</td>\n",
       "      <td>17</td>\n",
       "      <td>1.000000e+15</td>\n",
       "      <td>0.001</td>\n",
       "    </tr>\n",
       "  </tbody>\n",
       "</table>\n",
       "</div>"
      ],
      "text/plain": [
       "                                           blockHash blockNumber  \\\n",
       "0  0xbb75a3fd9e354f3ef6b09b6b060e8f006d897ac04611...     3557583   \n",
       "1  0x0dd2c8dbb1e46138be002e767b1d1f316af6570629b7...     3557599   \n",
       "2  0xc173571b88c08c5d8e201ab27a2f76a9eff0dc74fbba...     3565092   \n",
       "3  0x6336d4c65ad3e305d5c663b0c53eb7a6a0b48d8afb84...     3584469   \n",
       "4  0x5c444a8e4c889f8a228cc84e4be2d265f546cec24062...     3584491   \n",
       "\n",
       "  confirmations                             contractAddress cumulativeGasUsed  \\\n",
       "0         35944  0x1d0dcc8d8bcafa8e8502beaeef6cbd49d3affcdc           1782904   \n",
       "1         35928                                                        804554   \n",
       "2         28435                                                        875372   \n",
       "3          9058                                                         29091   \n",
       "4          9036                                                       1328552   \n",
       "\n",
       "                                         from      gas     gasPrice  gasUsed  \\\n",
       "0  0xbe4e25443df23382228e6347b06565edd838f901  3000000  20000000000  1486054   \n",
       "1  0xbe4e25443df23382228e6347b06565edd838f901  3000000  20000000000    66720   \n",
       "2  0xd68ba7734753e2ee54103116323aba2d94c78dc5   100000  20000000000   100000   \n",
       "3  0xbb7cf0e2cbf768d1d5a38d6ce7b8ec9f5d844a9e    29091  20000000000    29091   \n",
       "4  0xbb7cf0e2cbf768d1d5a38d6ce7b8ec9f5d844a9e   100000  20000000000   100000   \n",
       "\n",
       "                                                hash  \\\n",
       "0  0x4dbf95eb08cde01d46fcc0916c2da4adb7cd12eed473...   \n",
       "1  0xb5b8d48d71ec74b7602ff455d9520d12ec1e97e410b3...   \n",
       "2  0x19791ab4cf41525507c946bd407b4c89b8c39fa91f31...   \n",
       "3  0x776524bbb29ceca38f7624d850eae9c9938ff2b37a66...   \n",
       "4  0xc66db20e8322f2e95500d33dd79b8469234cad7bcecf...   \n",
       "\n",
       "                                               input isError nonce  \\\n",
       "0  0x6060604052341561000c57fe5b6040516060806114cc...       0    48   \n",
       "1  0x66d382030000000000000000000000006810e776880c...       0    54   \n",
       "2                                         0x9cf5453d       1   221   \n",
       "3  0x9cf5453d000000000000000000000000000000000000...       1   111   \n",
       "4  0x9cf5453d000000000000000000000000000000000000...       1   112   \n",
       "\n",
       "    timeStamp                                          to transactionIndex  \\\n",
       "0  1492522930                                                            8   \n",
       "1  1492523212  0x1d0dcc8d8bcafa8e8502beaeef6cbd49d3affcdc               23   \n",
       "2  1492635307  0x1d0dcc8d8bcafa8e8502beaeef6cbd49d3affcdc               26   \n",
       "3  1492922037  0x1d0dcc8d8bcafa8e8502beaeef6cbd49d3affcdc                0   \n",
       "4  1492922443  0x1d0dcc8d8bcafa8e8502beaeef6cbd49d3affcdc               17   \n",
       "\n",
       "          value  value_eth  \n",
       "0  0.000000e+00      0.000  \n",
       "1  0.000000e+00      0.000  \n",
       "2  1.000000e+15      0.001  \n",
       "3  1.000000e+15      0.001  \n",
       "4  1.000000e+15      0.001  "
      ]
     },
     "execution_count": 50,
     "metadata": {},
     "output_type": "execute_result"
    }
   ],
   "source": [
    "txs.head()"
   ]
  },
  {
   "cell_type": "code",
   "execution_count": 51,
   "metadata": {},
   "outputs": [
    {
     "data": {
      "text/plain": [
       "161192.58269865107"
      ]
     },
     "execution_count": 51,
     "metadata": {},
     "output_type": "execute_result"
    }
   ],
   "source": [
    "txs.value_eth.sum()"
   ]
  },
  {
   "cell_type": "code",
   "execution_count": 60,
   "metadata": {
    "collapsed": true
   },
   "outputs": [],
   "source": [
    "wallet_api = accounts.Account(address=\"0x851b7F3Ab81bd8dF354F0D7640EFcD7288553419\", api_key=key)"
   ]
  },
  {
   "cell_type": "code",
   "execution_count": 61,
   "metadata": {},
   "outputs": [
    {
     "name": "stdout",
     "output_type": "stream",
     "text": [
      "page 1 added\n",
      "Total number of transactions: 4\n"
     ]
    }
   ],
   "source": [
    "wallet_txs = wallet_api.get_all_transactions()"
   ]
  },
  {
   "cell_type": "code",
   "execution_count": 62,
   "metadata": {
    "collapsed": true
   },
   "outputs": [],
   "source": [
    "import requests"
   ]
  },
  {
   "cell_type": "code",
   "execution_count": 65,
   "metadata": {},
   "outputs": [],
   "source": [
    "req = requests.get(url='http://api.etherscan.io/api?module=account&action=txlistinternal&address=0x851b7F3Ab81bd8dF354F0D7640EFcD7288553419&sort=asc&apikey='+key)"
   ]
  },
  {
   "cell_type": "raw",
   "metadata": {},
   "source": []
  }
 ],
 "metadata": {
  "kernelspec": {
   "display_name": "Python 3",
   "language": "python",
   "name": "python3"
  },
  "language_info": {
   "codemirror_mode": {
    "name": "ipython",
    "version": 3
   },
   "file_extension": ".py",
   "mimetype": "text/x-python",
   "name": "python",
   "nbconvert_exporter": "python",
   "pygments_lexer": "ipython3",
   "version": "3.6.0"
  }
 },
 "nbformat": 4,
 "nbformat_minor": 2
}
